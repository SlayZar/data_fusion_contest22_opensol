{
 "cells": [
  {
   "cell_type": "markdown",
   "id": "c8884271",
   "metadata": {},
   "source": [
    "Public Leaderboard:\n",
    " - Task 1: R1 - 0.265826  | MRR - 0.193179  | Precision - 0.426043\n",
    " - Task 2: R1 - 0.012731  | MRR - 0.006671  | Precision - 0.138875"
   ]
  },
  {
   "cell_type": "code",
   "execution_count": 37,
   "id": "c5eac7fe",
   "metadata": {},
   "outputs": [],
   "source": [
    "# !mkdir data\n",
    "\n",
    "# !wget https://storage.yandexcloud.net/datasouls-ods/materials/0433a4ca/transactions.zip -P data\n",
    "# !wget https://storage.yandexcloud.net/datasouls-ods/materials/0554f0cf/clickstream.zip -P data\n",
    "# !wget https://storage.yandexcloud.net/datasouls-ods/materials/acfacf11/train_matching.csv -P data\n",
    "# !wget https://storage.yandexcloud.net/datasouls-ods/materials/b99fed70/puzzle.csv -P data\n",
    "    \n",
    "# !unzip data/transactions.zip -d data\n",
    "# !unzip data/clickstream.zip -d data\n",
    "\n",
    "# !rm data/transactions.zip\n",
    "# !rm data/clickstream.zip"
   ]
  },
  {
   "cell_type": "code",
   "execution_count": 41,
   "id": "ded84fe7",
   "metadata": {},
   "outputs": [
    {
     "name": "stdout",
     "output_type": "stream",
     "text": [
      "0.26 1.20.1 1.4.1\n"
     ]
    }
   ],
   "source": [
    "import numpy as np \n",
    "import pandas as pd \n",
    "import sys\n",
    "import pickle\n",
    "import shap\n",
    "import catboost\n",
    "from catboost import CatBoostClassifier, Pool\n",
    "import gc\n",
    "from sklearn.preprocessing import LabelEncoder\n",
    "from sklearn.model_selection import train_test_split\n",
    "import matplotlib.pyplot as plt\n",
    "from sklearn.metrics import roc_auc_score\n",
    "from tqdm import tqdm_notebook\n",
    "\n",
    "print(catboost.__version__, np.__version__, pd.__version__)\n",
    "\n",
    "import multiprocessing\n",
    "from psutil import virtual_memory"
   ]
  },
  {
   "cell_type": "code",
   "execution_count": 3,
   "id": "6d5d85dc",
   "metadata": {},
   "outputs": [],
   "source": [
    "def read_cl_data(input_folder='data', all_dicts = {}):\n",
    "    clickstream = pd.read_csv(f'{input_folder}/clickstream.csv')\n",
    "    clickstream['timestamp'] = pd.to_datetime(clickstream['timestamp'])\n",
    "    all_dicts['rtk_le'] = LabelEncoder().fit(clickstream['user_id'])\n",
    "    clickstream['user_id'] = all_dicts['rtk_le'].transform(clickstream['user_id'])+1\n",
    "    clickstream_dtypes = {'user_id':np.int16, 'cat_id':np.int16, 'new_uid':np.int32}\n",
    "    clickstream = clickstream.astype(clickstream_dtypes)\n",
    "    return clickstream, all_dicts"
   ]
  },
  {
   "cell_type": "code",
   "execution_count": 4,
   "id": "a4068676",
   "metadata": {},
   "outputs": [],
   "source": [
    "def read_tr_data(input_folder='data', all_dicts = {}):\n",
    "    transactions = pd.read_csv(f'{input_folder}/transactions.csv')\n",
    "    transactions['transaction_dttm'] = pd.to_datetime(transactions['transaction_dttm'])\n",
    "    all_dicts['bank_le'] = LabelEncoder().fit(transactions['user_id'])\n",
    "    transactions['user_id'] = all_dicts['bank_le'].transform(transactions['user_id'])+1\n",
    "    transactions_dtypes = {'user_id':np.int16, 'mcc_code':np.int16, 'currency_rk':np.int8}\n",
    "    transactions = transactions.astype(transactions_dtypes)\n",
    "    return transactions, all_dicts"
   ]
  },
  {
   "cell_type": "code",
   "execution_count": 5,
   "id": "cc886c99",
   "metadata": {},
   "outputs": [],
   "source": [
    "def read_train_data(all_dicts, input_folder='data'):\n",
    "    train = pd.read_csv(f'{input_folder}/train_matching.csv')\n",
    "    train['bank'] = all_dicts['bank_le'].transform(train['bank'])+1\n",
    "    train.loc[train.rtk=='0', 'rtk'] = 0\n",
    "    train.loc[train.rtk!=0, 'rtk'] = all_dicts['rtk_le'].transform(train.loc[train.rtk!=0, 'rtk'])+1\n",
    "    return train"
   ]
  },
  {
   "cell_type": "code",
   "execution_count": 6,
   "id": "a80e14bd",
   "metadata": {},
   "outputs": [],
   "source": [
    "def new_feats(clickstream, time_col, naming):\n",
    "    clickstream['hour'] = clickstream[time_col].dt.hour\n",
    "    cl_sv = pd.pivot_table(clickstream, index='user_id', columns='hour', values = time_col, aggfunc = 'count').fillna(0)\n",
    "    cl_sv['summs'] = cl_sv.sum(axis=1)\n",
    "    for i in cl_sv.columns[:-1]:\n",
    "        cl_sv[i] /= cl_sv['summs']\n",
    "    cl_sv.columns = [f'{naming}_h_'+ str(i) for i in cl_sv.columns]\n",
    "    return cl_sv"
   ]
  },
  {
   "cell_type": "code",
   "execution_count": 7,
   "id": "11c6e442",
   "metadata": {},
   "outputs": [],
   "source": [
    "def get_baseline_embed(clickstream, time_col, cat_col, naming, aggfunc):\n",
    "    clickstream_embed = clickstream.pivot_table(index = 'user_id', \n",
    "                            values=[time_col],\n",
    "                            columns=[cat_col],\n",
    "                            aggfunc=aggfunc).fillna(0)\n",
    "    clickstream_embed.columns = [f'{naming}_{str(i[0])}-{str(i[2])}' for i in clickstream_embed.columns]\n",
    "    clickstream_embed.loc[0] = np.empty(len(clickstream_embed.columns))\n",
    "    dtype = pd.SparseDtype(np.int32, fill_value=0)\n",
    "    clickstream_embed = clickstream_embed.astype(dtype)\n",
    "    return clickstream_embed"
   ]
  },
  {
   "cell_type": "markdown",
   "id": "9d0b1b82",
   "metadata": {},
   "source": [
    "### Get data and preprocessing"
   ]
  },
  {
   "cell_type": "code",
   "execution_count": 8,
   "id": "1ee0109a",
   "metadata": {},
   "outputs": [
    {
     "name": "stdout",
     "output_type": "stream",
     "text": [
      "CPU times: user 2min 14s, sys: 16.7 s, total: 2min 31s\n",
      "Wall time: 2min 31s\n"
     ]
    }
   ],
   "source": [
    "%%time\n",
    "# Read data and label encoder to decrease used RAM\n",
    "clickstream, all_dicts = read_cl_data(input_folder='data', all_dicts={})\n",
    "# New feats basing on hour embeddings\n",
    "cl_sv = new_feats(clickstream, 'timestamp', 'click')\n",
    "# Embedings on categories from baseline\n",
    "clickstream_embed = get_baseline_embed(clickstream, 'timestamp', 'cat_id', 'rtk', aggfunc = ['count'])\n",
    "del clickstream"
   ]
  },
  {
   "cell_type": "code",
   "execution_count": 10,
   "id": "4609dbd7",
   "metadata": {},
   "outputs": [
    {
     "name": "stdout",
     "output_type": "stream",
     "text": [
      "CPU times: user 30.1 s, sys: 1.3 s, total: 31.4 s\n",
      "Wall time: 32 s\n"
     ]
    }
   ],
   "source": [
    "%%time\n",
    "# Read data and label encoder to decrease used RAM\n",
    "transactions, all_dicts = read_tr_data(input_folder='data', all_dicts=all_dicts)\n",
    "# New feats basing on hour embeddings\n",
    "tr_sv = new_feats(transactions, 'transaction_dttm', 'trans')\n",
    "# Embedings on categories from baseline\n",
    "bankclient_embed = get_baseline_embed(transactions, 'transaction_amt', 'mcc_code', 'bank', aggfunc = ['sum','mean', 'count'])\n",
    "del transactions"
   ]
  },
  {
   "cell_type": "code",
   "execution_count": 45,
   "id": "aa71efd8",
   "metadata": {},
   "outputs": [
    {
     "name": "stdout",
     "output_type": "stream",
     "text": [
      "CPU times: user 61 ms, sys: 13 µs, total: 61.1 ms\n",
      "Wall time: 59.6 ms\n"
     ]
    }
   ],
   "source": [
    "%%time\n",
    "# Read train data\n",
    "train = read_train_data(all_dicts, input_folder='data')"
   ]
  },
  {
   "cell_type": "markdown",
   "id": "3a3d11dc",
   "metadata": {},
   "source": [
    "### Training"
   ]
  },
  {
   "cell_type": "code",
   "execution_count": 46,
   "id": "acc484dc",
   "metadata": {},
   "outputs": [
    {
     "name": "stdout",
     "output_type": "stream",
     "text": [
      "CPU times: user 6.46 s, sys: 19.9 ms, total: 6.48 s\n",
      "Wall time: 6.48 s\n"
     ]
    }
   ],
   "source": [
    "%%time\n",
    "# Соберём обучающую выборку, где на 1 правильный мэтч будет приходиться 10 неправильных\n",
    "\n",
    "k=10\n",
    "cor_dict = train.set_index('bank')['rtk'].to_dict()\n",
    "\n",
    "train_bank_ids = train[(train.rtk!=0)]['bank'].unique()\n",
    "train_rtk_ids = train[train.bank.isin(train_bank_ids)]['rtk'].drop_duplicates()\n",
    "df_train = pd.DataFrame(train_bank_ids, columns=['bank'])\n",
    "df_train['rtk'] = df_train['bank'].apply(lambda x: [cor_dict[x]] + train_rtk_ids.sample(k, random_state=x).values.tolist() )\n",
    "\n",
    "df_train = df_train.explode('rtk')\n",
    "\n",
    "train['bank+rtk'] = train['bank'].astype('str')+'_'+train['rtk'].astype('str')\n",
    "df_train['bank+rtk'] = df_train['bank'].astype('str')+'_'+df_train['rtk'].astype('str')\n",
    "df_train['target'] = df_train['bank+rtk'].isin(train['bank+rtk']).astype('int')\n",
    "\n",
    "df_train = df_train.drop_duplicates('bank+rtk').reset_index(drop=True)"
   ]
  },
  {
   "cell_type": "code",
   "execution_count": 47,
   "id": "6305da20",
   "metadata": {},
   "outputs": [
    {
     "name": "stdout",
     "output_type": "stream",
     "text": [
      "1610\n",
      "CPU times: user 9.92 s, sys: 0 ns, total: 9.92 s\n",
      "Wall time: 9.92 s\n"
     ]
    }
   ],
   "source": [
    "%%time\n",
    "X_train=df_train.merge(bankclient_embed, how='left', left_on='bank', right_index=True\n",
    "                          ).merge(clickstream_embed, how='left', left_on='rtk', right_index=True\n",
    "                           ).merge(cl_sv, how='left', left_on='rtk', right_index=True\n",
    "                           ).merge(tr_sv, how='left', left_on='bank', right_index=True\n",
    "                           ).fillna(0)\n",
    "full_list_of_features = X_train.drop(['bank', 'rtk', 'bank+rtk', 'target'], axis=1).columns\n",
    "print(len(full_list_of_features))"
   ]
  },
  {
   "cell_type": "code",
   "execution_count": 35,
   "id": "471b0964",
   "metadata": {},
   "outputs": [
    {
     "name": "stdout",
     "output_type": "stream",
     "text": [
      "Learning rate set to 0.090298\n",
      "0:\tlearn: 0.6139189\ttotal: 232ms\tremaining: 3m 51s\n",
      "50:\tlearn: 0.3058380\ttotal: 7.57s\tremaining: 2m 20s\n",
      "100:\tlearn: 0.3046477\ttotal: 15.5s\tremaining: 2m 18s\n",
      "150:\tlearn: 0.3033156\ttotal: 23.3s\tremaining: 2m 10s\n",
      "200:\tlearn: 0.3016363\ttotal: 31.1s\tremaining: 2m 3s\n",
      "250:\tlearn: 0.3001244\ttotal: 39s\tremaining: 1m 56s\n",
      "300:\tlearn: 0.2984244\ttotal: 46.9s\tremaining: 1m 48s\n",
      "350:\tlearn: 0.2968242\ttotal: 54.8s\tremaining: 1m 41s\n",
      "400:\tlearn: 0.2952564\ttotal: 1m 2s\tremaining: 1m 33s\n",
      "450:\tlearn: 0.2937465\ttotal: 1m 10s\tremaining: 1m 25s\n",
      "500:\tlearn: 0.2923515\ttotal: 1m 18s\tremaining: 1m 17s\n",
      "550:\tlearn: 0.2908689\ttotal: 1m 26s\tremaining: 1m 10s\n",
      "600:\tlearn: 0.2893044\ttotal: 1m 34s\tremaining: 1m 2s\n",
      "650:\tlearn: 0.2878003\ttotal: 1m 41s\tremaining: 54.6s\n",
      "700:\tlearn: 0.2864665\ttotal: 1m 49s\tremaining: 46.7s\n",
      "750:\tlearn: 0.2850800\ttotal: 1m 57s\tremaining: 38.9s\n",
      "800:\tlearn: 0.2835652\ttotal: 2m 5s\tremaining: 31.1s\n",
      "850:\tlearn: 0.2822532\ttotal: 2m 12s\tremaining: 23.3s\n",
      "900:\tlearn: 0.2809282\ttotal: 2m 20s\tremaining: 15.5s\n",
      "950:\tlearn: 0.2795021\ttotal: 2m 28s\tremaining: 7.65s\n",
      "999:\tlearn: 0.2782219\ttotal: 2m 36s\tremaining: 0us\n"
     ]
    },
    {
     "data": {
      "text/plain": [
       "<catboost.core.CatBoostClassifier at 0x7fa6a9ba3fd0>"
      ]
     },
     "execution_count": 35,
     "metadata": {},
     "output_type": "execute_result"
    }
   ],
   "source": [
    "cb = CatBoostClassifier(verbose=50)\n",
    "cb.fit( Pool(X_train[full_list_of_features], X_train['target']))"
   ]
  },
  {
   "cell_type": "code",
   "execution_count": 36,
   "id": "a3167f73",
   "metadata": {},
   "outputs": [],
   "source": [
    "cb.save_model('open_sol_model_1.cbm')"
   ]
  },
  {
   "cell_type": "markdown",
   "id": "ffdf11a5",
   "metadata": {},
   "source": [
    "### Puzzle"
   ]
  },
  {
   "cell_type": "code",
   "execution_count": 38,
   "id": "dc6941d4",
   "metadata": {},
   "outputs": [
    {
     "name": "stdout",
     "output_type": "stream",
     "text": [
      "(4952, 2)\n"
     ]
    },
    {
     "data": {
      "text/html": [
       "<div>\n",
       "<style scoped>\n",
       "    .dataframe tbody tr th:only-of-type {\n",
       "        vertical-align: middle;\n",
       "    }\n",
       "\n",
       "    .dataframe tbody tr th {\n",
       "        vertical-align: top;\n",
       "    }\n",
       "\n",
       "    .dataframe thead th {\n",
       "        text-align: right;\n",
       "    }\n",
       "</style>\n",
       "<table border=\"1\" class=\"dataframe\">\n",
       "  <thead>\n",
       "    <tr style=\"text-align: right;\">\n",
       "      <th></th>\n",
       "      <th>bank</th>\n",
       "      <th>rtk</th>\n",
       "    </tr>\n",
       "  </thead>\n",
       "  <tbody>\n",
       "    <tr>\n",
       "      <th>0</th>\n",
       "      <td>6dd66e8624da427da6b558903a5772b8</td>\n",
       "      <td>56f386b1a1a9455b9118cd290b0627d7</td>\n",
       "    </tr>\n",
       "    <tr>\n",
       "      <th>1</th>\n",
       "      <td>224a2325b44a4326bc539e3f1a6e713b</td>\n",
       "      <td>ca77a88196ef4dd786fb390340cf226e</td>\n",
       "    </tr>\n",
       "  </tbody>\n",
       "</table>\n",
       "</div>"
      ],
      "text/plain": [
       "                               bank                               rtk\n",
       "0  6dd66e8624da427da6b558903a5772b8  56f386b1a1a9455b9118cd290b0627d7\n",
       "1  224a2325b44a4326bc539e3f1a6e713b  ca77a88196ef4dd786fb390340cf226e"
      ]
     },
     "execution_count": 38,
     "metadata": {},
     "output_type": "execute_result"
    }
   ],
   "source": [
    "puzzle = pd.read_csv('./data/puzzle.csv')\n",
    "print(puzzle.shape)\n",
    "puzzle.head(2)"
   ]
  },
  {
   "cell_type": "code",
   "execution_count": 39,
   "id": "e11433d5",
   "metadata": {},
   "outputs": [],
   "source": [
    "puzzle['bank'] = all_dicts['bank_le'].transform(puzzle['bank'])+1\n",
    "puzzle['rtk'] = all_dicts['rtk_le'].transform(puzzle['rtk'])+1"
   ]
  },
  {
   "cell_type": "code",
   "execution_count": 40,
   "id": "a888a2b3",
   "metadata": {},
   "outputs": [],
   "source": [
    "puzzle_bank_ids = puzzle['bank'].drop_duplicates()\n",
    "puzzle_rtk_ids = puzzle['rtk'].drop_duplicates()\n",
    "df_puzzle = pd.DataFrame(puzzle_bank_ids, columns=['bank'])\n",
    "df_puzzle['rtk'] = df_puzzle['bank'].apply(lambda x: puzzle_rtk_ids.values.tolist())\n",
    "\n",
    "df_puzzle = df_puzzle.explode('rtk')\n",
    "\n",
    "df_puzzle.reset_index(inplace=True, drop=True)"
   ]
  },
  {
   "cell_type": "code",
   "execution_count": 42,
   "id": "8afd0ce8",
   "metadata": {},
   "outputs": [
    {
     "name": "stderr",
     "output_type": "stream",
     "text": [
      "This function will be removed in tqdm==5.0.0\n",
      "Please use `tqdm.notebook.tqdm` instead of `tqdm.tqdm_notebook`\n"
     ]
    },
    {
     "data": {
      "application/vnd.jupyter.widget-view+json": {
       "model_id": "162a4759807b43af925eddde6a488f1d",
       "version_major": 2,
       "version_minor": 0
      },
      "text/plain": [
       "  0%|          | 0/100 [00:00<?, ?it/s]"
      ]
     },
     "metadata": {},
     "output_type": "display_data"
    },
    {
     "name": "stdout",
     "output_type": "stream",
     "text": [
      "CPU times: user 26min 26s, sys: 7.25 s, total: 26min 33s\n",
      "Wall time: 23min 34s\n"
     ]
    }
   ],
   "source": [
    "%%time\n",
    "batch = 50\n",
    "clf = CatBoostClassifier()\n",
    "clf.load_model('open_sol_model_1.cbm')\n",
    "for i in tqdm_notebook(range(len(puzzle_bank_ids)//batch+1)):\n",
    "    bank_batch = puzzle_bank_ids[i*batch:(i+1)*batch]\n",
    "    X_puzzle=df_puzzle[df_puzzle.bank.isin(bank_batch)].merge(bankclient_embed, how='left', left_on='bank', right_index=True\n",
    "                                        ).merge(clickstream_embed, how='left', left_on='rtk', right_index=True\n",
    "                                          ).merge(tr_sv, how='left', left_on='bank', right_index=True\n",
    "                                            ).merge(cl_sv, how='left', left_on='rtk', right_index=True\n",
    "                                              ).fillna(0)\n",
    "    df_puzzle.loc[df_puzzle.bank.isin(bank_batch), 'predicts'] = clf.predict_proba(X_puzzle[clf.feature_names_])[:,1]\n",
    "    del X_puzzle\n",
    "    \n",
    "df_puzzle['pred_rank'] = df_puzzle.groupby('bank')['predicts'].rank(ascending=False)"
   ]
  },
  {
   "cell_type": "code",
   "execution_count": 44,
   "id": "8a4f8bf3",
   "metadata": {},
   "outputs": [
    {
     "name": "stdout",
     "output_type": "stream",
     "text": [
      "CPU times: user 1.16 s, sys: 20.1 ms, total: 1.18 s\n",
      "Wall time: 1.14 s\n"
     ]
    }
   ],
   "source": [
    "%%time\n",
    "sub = df_puzzle[df_puzzle.pred_rank<=100].copy(deep=True).sort_values(by=['bank', 'predicts'], ascending=False)\n",
    "sub['rtk'] = all_dicts['rtk_le'].inverse_transform(sub['rtk'].astype(int)-1)\n",
    "sub['bank'] = all_dicts['bank_le'].inverse_transform(sub['bank']-1)\n",
    "\n",
    "sub = sub.pivot_table(index='bank', values='rtk', aggfunc=list)\n",
    "sub['rtk'] = sub['rtk'].apply(lambda x: str(x))\n",
    "sub = sub.replace(\"'\", '', regex=True)\n",
    "sub.rename({'rtk':'rtk_list'}, axis=1).to_csv('puzzle_solution.csv', index=True)"
   ]
  },
  {
   "cell_type": "code",
   "execution_count": null,
   "id": "d2101c0a",
   "metadata": {},
   "outputs": [],
   "source": []
  }
 ],
 "metadata": {
  "kernelspec": {
   "display_name": "myenv",
   "language": "python",
   "name": "myenv"
  },
  "language_info": {
   "codemirror_mode": {
    "name": "ipython",
    "version": 3
   },
   "file_extension": ".py",
   "mimetype": "text/x-python",
   "name": "python",
   "nbconvert_exporter": "python",
   "pygments_lexer": "ipython3",
   "version": "3.8.10"
  }
 },
 "nbformat": 4,
 "nbformat_minor": 5
}
